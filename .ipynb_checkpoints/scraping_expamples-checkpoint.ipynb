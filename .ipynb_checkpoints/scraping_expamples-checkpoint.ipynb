{
 "cells": [
  {
   "cell_type": "code",
   "execution_count": null,
   "id": "a41f0de5-3c72-4c0d-a526-69512b85d3fa",
   "metadata": {},
   "outputs": [],
   "source": [
    "from urllib.request import Request, urlopen, urlretrieve\n",
    "from bs4 import BeautifulSoup\n",
    "from PIL import Image\n",
    "import re, os\n",
    "firefox_head = {\"User-Agent\": \"Mozilla/5.0\"}"
   ]
  },
  {
   "cell_type": "code",
   "execution_count": null,
   "id": "75f50e08-c805-4a7e-a4cd-6c5aa87e805c",
   "metadata": {
    "tags": []
   },
   "outputs": [],
   "source": [
    "search = \"true\"\n",
    "url = f\"https://en.wiktionary.org/wiki/{search.replace(' ','_')}\"\n",
    "print(url)\n",
    "request_url = Request(url, headers=firefox_head)\n",
    "\n",
    "html_code = urlopen(request_url).read().decode(\"utf-8\")\n",
    "#print(html_code)\n",
    "res = re.findall('data-gloss=\"(.*?)\"', html_code)"
   ]
  },
  {
   "cell_type": "code",
   "execution_count": null,
   "id": "27b9e631-e0b9-4792-8685-93444eef15d0",
   "metadata": {
    "tags": []
   },
   "outputs": [],
   "source": [
    "res = re.findall('data-gloss=\"(.*?)\"', html_code)\n",
    "print(BeautifulSoup(res[0]).get_text())"
   ]
  },
  {
   "cell_type": "code",
   "execution_count": null,
   "id": "b0715138-79d0-4e7c-9520-0a08c9c13f24",
   "metadata": {
    "tags": []
   },
   "outputs": [],
   "source": [
    "search = \"sad cat\"\n",
    "url = f\"https://www.google.com/search?q={search.replace(' ','+')}&sclient=img&udm=2\"\n",
    "print(url)\n",
    "request_url = Request(url, headers=firefox_head)\n",
    "html_code = urlopen(request_url).read().decode(\"utf-8\")"
   ]
  },
  {
   "cell_type": "code",
   "execution_count": null,
   "id": "5a932fc1-a32e-4fc5-b873-90ac0ee5b168",
   "metadata": {
    "tags": []
   },
   "outputs": [],
   "source": [
    "res = re.findall('\"(https://encrypted.*?)&', html_code)\n",
    "print(res[0:10])"
   ]
  },
  {
   "cell_type": "code",
   "execution_count": null,
   "id": "d6a5b106-1c9f-4c08-ba20-71a707ebe83f",
   "metadata": {
    "tags": []
   },
   "outputs": [],
   "source": [
    "urlretrieve(res[0], \"cat\")\n"
   ]
  },
  {
   "cell_type": "code",
   "execution_count": null,
   "id": "08acf1f6-6b10-4439-a8a3-e9dfd1271753",
   "metadata": {
    "tags": []
   },
   "outputs": [],
   "source": [
    "if not os.path.isdir(\"image\"):\n",
    "    os.makedirs(\"image\")\n",
    "\n",
    "for i,img in enumerate(res[:10]):\n",
    "    urlretrieve(img, \"cat\")\n",
    "    image = Image.open(\"cat\")\n",
    "    image.save(f\"image/cat_{i}.jpg\")\n",
    "    os.remove(\"cat\")"
   ]
  },
  {
   "cell_type": "code",
   "execution_count": null,
   "id": "3af6ea87-89de-41c2-b60c-e4d92d8c11af",
   "metadata": {
    "tags": []
   },
   "outputs": [],
   "source": [
    "search = \"nestle\"\n",
    "url = f\"https://www.google.com/search?q={search.replace(' ','+')}\"\n",
    "print(url)\n",
    "request_url = Request(url, headers=firefox_head)\n",
    "html_code = urlopen(request_url).read().decode(\"utf-8\")"
   ]
  },
  {
   "cell_type": "code",
   "execution_count": null,
   "id": "a14aaae6-8cff-42f8-aa02-e2e8bc962019",
   "metadata": {
    "tags": []
   },
   "outputs": [],
   "source": [
    "res = re.findall('(https.*?)&', html_code)[1:12]\n",
    "for r in res:\n",
    "    print(r)"
   ]
  },
  {
   "cell_type": "code",
   "execution_count": null,
   "id": "eacc121c-5dd8-4b0c-86e7-8648d5a2c37a",
   "metadata": {
    "tags": []
   },
   "outputs": [],
   "source": [
    "url = res[0]\n",
    "print(url)\n",
    "request_url = Request(url, headers=firefox_head)\n",
    "html_code = urlopen(request_url).read().decode(\"utf-8\")"
   ]
  },
  {
   "cell_type": "code",
   "execution_count": null,
   "id": "d4153607-10cd-43a1-b046-ced83f3542b0",
   "metadata": {
    "tags": []
   },
   "outputs": [],
   "source": [
    "res = re.findall('\"(https.*?)\"', html_code)\n",
    "for r in res:\n",
    "    print(r)"
   ]
  }
 ],
 "metadata": {
  "kernelspec": {
   "display_name": "Python 3 (ipykernel)",
   "language": "python",
   "name": "python3"
  },
  "language_info": {
   "codemirror_mode": {
    "name": "ipython",
    "version": 3
   },
   "file_extension": ".py",
   "mimetype": "text/x-python",
   "name": "python",
   "nbconvert_exporter": "python",
   "pygments_lexer": "ipython3",
   "version": "3.11.5"
  }
 },
 "nbformat": 4,
 "nbformat_minor": 5
}
