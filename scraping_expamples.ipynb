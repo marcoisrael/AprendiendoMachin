{
 "cells": [
  {
   "cell_type": "code",
   "execution_count": 43,
   "id": "a41f0de5-3c72-4c0d-a526-69512b85d3fa",
   "metadata": {},
   "outputs": [],
   "source": [
    "from urllib.request import Request, urlopen, urlretrieve\n",
    "from bs4 import BeautifulSoup\n",
    "from PIL import Image\n",
    "import re, os\n",
    "firefox_head = {\"User-Agent\": \"Mozilla/5.0\"}"
   ]
  },
  {
   "cell_type": "code",
   "execution_count": 9,
   "id": "75f50e08-c805-4a7e-a4cd-6c5aa87e805c",
   "metadata": {
    "tags": []
   },
   "outputs": [
    {
     "name": "stdout",
     "output_type": "stream",
     "text": [
      "https://en.wiktionary.org/wiki/true\n",
      "concurring with a given set of facts\n"
     ]
    }
   ],
   "source": [
    "search = \"true\"\n",
    "url = f\"https://en.wiktionary.org/wiki/{search.replace(' ','_')}\"\n",
    "print(url)\n",
    "request_url = Request(url, headers=firefox_head)\n",
    "\n",
    "html_code = urlopen(request_url).read().decode(\"utf-8\")\n",
    "#print(html_code)\n",
    "res = re.findall('data-gloss=\"(.*?)\"', html_code)\n",
    "print(BeautifulSoup(res[0]).get_text())"
   ]
  },
  {
   "cell_type": "code",
   "execution_count": 8,
   "id": "27b9e631-e0b9-4792-8685-93444eef15d0",
   "metadata": {
    "tags": []
   },
   "outputs": [
    {
     "name": "stdout",
     "output_type": "stream",
     "text": [
      "to move in an upwards direction\n"
     ]
    }
   ],
   "source": [
    "res = re.findall('data-gloss=\"(.*?)\"', html_code)\n",
    "print(BeautifulSoup(res[0]).get_text())"
   ]
  },
  {
   "cell_type": "code",
   "execution_count": 104,
   "id": "b0715138-79d0-4e7c-9520-0a08c9c13f24",
   "metadata": {
    "tags": []
   },
   "outputs": [
    {
     "name": "stdout",
     "output_type": "stream",
     "text": [
      "https://www.google.com/search?q=sad+cat&sclient=img&udm=2\n"
     ]
    }
   ],
   "source": [
    "search = \"sad cat\"\n",
    "url = f\"https://www.google.com/search?q={search.replace(' ','+')}&sclient=img&udm=2\"\n",
    "print(url)\n",
    "request_url = Request(url, headers=firefox_head)\n",
    "html_code = urlopen(request_url).read().decode(\"utf-8\")"
   ]
  },
  {
   "cell_type": "code",
   "execution_count": 105,
   "id": "5a932fc1-a32e-4fc5-b873-90ac0ee5b168",
   "metadata": {
    "tags": []
   },
   "outputs": [
    {
     "name": "stdout",
     "output_type": "stream",
     "text": [
      "['https://encrypted-tbn0.gstatic.com/images?q=tbn:ANd9GcQIQiD18PHhOtwASqIDMGoCNboS9LcFF_nYkfuMB2p4uvGAfT6TL7-wI3A5vLI', 'https://encrypted-tbn0.gstatic.com/images?q=tbn:ANd9GcS4MKVK8MB9ZMwPKJQZhzZ11R3s6yxb66Og2J2w1jCb3F6ea77T7E4amJekUcY', 'https://encrypted-tbn0.gstatic.com/images?q=tbn:ANd9GcSO4SHtdMmxO5sN4q2EtEpimm7iIVrIi-Ix_JNjMEprKqj2L0u8j7xwGSgorA', 'https://encrypted-tbn0.gstatic.com/images?q=tbn:ANd9GcSweI_qs8LNsOY8zS_27UHrmHVzvJjmRJpm4RRfQm-zvYAoTGd71cy2TUdLPw', 'https://encrypted-tbn0.gstatic.com/images?q=tbn:ANd9GcS68l7lmrpESgxOViZ5l4eQBeU2AeahyiTopIFhXx62OyYHdHiFjCaN1OfmFA', 'https://encrypted-tbn0.gstatic.com/images?q=tbn:ANd9GcSPsQ2gQdQQ8YG1aXx6rdeJHDRIgVXCjGTRPJbYUGSmsldQ_6L0r1F_MgXnxg', 'https://encrypted-tbn0.gstatic.com/images?q=tbn:ANd9GcQUhKDG9ihDnyYh5uH4M_RwTSYAkICQQVmxquP_XVhHEyct_XPYmdb4hIH3TeY', 'https://encrypted-tbn0.gstatic.com/images?q=tbn:ANd9GcR2NpIEtYAkqZmdXoZdbGN7rWF7myXIq2HuEQA3JhHiKu0v0W-R7eErwK35-Xk', 'https://encrypted-tbn0.gstatic.com/images?q=tbn:ANd9GcS4zNl4Rq1ezoCaeeyk_nccBbz9Nyhm8SYBf1n7yGD-uGkJu3qR8g9MMV4Auw', 'https://encrypted-tbn0.gstatic.com/images?q=tbn:ANd9GcRpme4R1MpXOqqVI_joJcDvX6mFQDImAt-fsrMNNx3pOX48f6xKUXlhAUxrPQ']\n"
     ]
    }
   ],
   "source": [
    "res = re.findall('\"(https://encrypted.*?)&', html_code)\n",
    "print(res[0:10])"
   ]
  },
  {
   "cell_type": "code",
   "execution_count": 16,
   "id": "d6a5b106-1c9f-4c08-ba20-71a707ebe83f",
   "metadata": {
    "tags": []
   },
   "outputs": [
    {
     "data": {
      "text/plain": [
       "('cat', <http.client.HTTPMessage at 0x7fdbf6ac37d0>)"
      ]
     },
     "execution_count": 16,
     "metadata": {},
     "output_type": "execute_result"
    }
   ],
   "source": [
    "urlretrieve(res[0], \"cat\")\n"
   ]
  },
  {
   "cell_type": "code",
   "execution_count": 106,
   "id": "08acf1f6-6b10-4439-a8a3-e9dfd1271753",
   "metadata": {
    "tags": []
   },
   "outputs": [],
   "source": [
    "if not os.path.isdir(\"image\"):\n",
    "    os.makedirs(\"image\")\n",
    "\n",
    "for i,img in enumerate(res[:10]):\n",
    "    urlretrieve(img, \"cat\")\n",
    "    image = Image.open(\"cat\")\n",
    "    image.save(f\"image/cat_{i}.jpg\")\n",
    "    os.remove(\"cat\")"
   ]
  },
  {
   "cell_type": "code",
   "execution_count": 117,
   "id": "3af6ea87-89de-41c2-b60c-e4d92d8c11af",
   "metadata": {
    "tags": []
   },
   "outputs": [
    {
     "name": "stdout",
     "output_type": "stream",
     "text": [
      "https://www.google.com/search?q=nestle\n"
     ]
    }
   ],
   "source": [
    "search = \"nestle\"\n",
    "url = f\"https://www.google.com/search?q={search.replace(' ','+')}\"\n",
    "print(url)\n",
    "request_url = Request(url, headers=firefox_head)\n",
    "html_code = urlopen(request_url).read().decode(\"utf-8\")"
   ]
  },
  {
   "cell_type": "code",
   "execution_count": 119,
   "id": "a14aaae6-8cff-42f8-aa02-e2e8bc962019",
   "metadata": {
    "tags": []
   },
   "outputs": [
    {
     "name": "stdout",
     "output_type": "stream",
     "text": [
      "https://www.nestle.com.mx/\n",
      "https://www.nestle.com.mx/trabajos\n",
      "https://www.nestle.com.mx/brands\n",
      "https://www.nestle.com.mx/trabajos/buscar-trabajos\n",
      "https://www.nestle.com.mx/contactanos\n",
      "https://www.nestle.com.mx/aboutus/150-historia\n",
      "https://es.wikipedia.org/wiki/Nestl%25C3%25A9\n",
      "https://www.recetasnestle.com.mx/\n",
      "https://maps.google.com/maps%3Fum%3D1%26ie%3DUTF-8%26fb%3D1%26gl%3Dmx%26sa%3DX%26sll%3D19.37086,-99.111357%26sspn%3D0.248777,0.3516408%26q%3Dnestle%26ved%3D1t:200245%26ictx%3D111\n",
      "https://www.nestleprofessional.com.mx/\n",
      "https://www.nestleprofessional.com.mx/marcas\n"
     ]
    }
   ],
   "source": [
    "res = re.findall('(https.*?)&', html_code)[1:12]\n",
    "for r in res:\n",
    "    print(r)"
   ]
  },
  {
   "cell_type": "code",
   "execution_count": 121,
   "id": "eacc121c-5dd8-4b0c-86e7-8648d5a2c37a",
   "metadata": {
    "tags": []
   },
   "outputs": [
    {
     "name": "stdout",
     "output_type": "stream",
     "text": [
      "https://www.nestle.com.mx/\n"
     ]
    }
   ],
   "source": [
    "url = res[0]\n",
    "print(url)\n",
    "request_url = Request(url, headers=firefox_head)\n",
    "html_code = urlopen(request_url).read().decode(\"utf-8\")"
   ]
  },
  {
   "cell_type": "code",
   "execution_count": 125,
   "id": "d4153607-10cd-43a1-b046-ced83f3542b0",
   "metadata": {
    "tags": []
   },
   "outputs": [
    {
     "name": "stdout",
     "output_type": "stream",
     "text": [
      "https://www.nestle.com.mx/\n",
      "https://www.nestle.com.mx/\n",
      "https://www.nestle.com.mx/home\n",
      "https://schema.org\n",
      "https://www.nestle.com.mx/\n",
      "https://unpkg.com/tippy.js@6.3.7/dist/tippy.css\n",
      "https://unpkg.com/bootstrap@3.4.1/dist/css/bootstrap.min.css\n",
      "https://unpkg.com/@unicorn-fail/drupal-bootstrap-styles@0.0.2/dist/3.4.0/8.x-3.x/drupal-bootstrap.min.css\n",
      "https:\\/\\/www.nestle.com.mx\n",
      "https://www.googletagmanager.com/ns.html?id=GTM-TRZ9C7\n",
      "https://www.nestle.com\n",
      "https://www.osem-nestle.co.il/\n",
      "https://www.nestle-mena.com/ar\n",
      "https://www.nestle-mena.com/en\n",
      "https://www.nestle.com.br\n",
      "https://www.corporate.nestle.ca/en\n",
      "https://www.corporate.nestle.ca/fr\n",
      "https://nestle-caribbean.com\n",
      "https://www.nestle.com.co\n",
      "https://www.nestle.do\n",
      "https://www.nestle.com.mx\n",
      "https://www.nestle.com.hk/en\n",
      "https://www.nestle.com.hk/zh\n",
      "https://www.nestle.co.th/th\n",
      "https://www.nestle.cz/cs\n",
      "https://www.nestle.lt/lv\n",
      "https://www.nestle.lt/lt\n",
      "https://www.nestle.md/ro\n",
      "https://www.nestle.md/ru\n",
      "https://www.nestle.pl\n",
      "https://empresa.nestle.pt\n",
      "https://www.nestle.cz/sk\n",
      "https://www.empresa.nestle.es/es\n",
      "https://www.empresa.nestle.es/ca\n",
      "https://www.nestle.ch/de\n",
      "https://www.nestle.ch/fr\n",
      "https://www.all-in.com.mx\n",
      "https://www.all-in.com.mx\n",
      "https://career2.successfactors.eu/career?career_company=nestleHRprdBX&amp;company=nestleHRprdBX&amp;lang=es_MX&amp;loginFlowRequired=true&amp;site=\n",
      "https://career2.successfactors.eu/career?career_company=nestleHRprdBX&amp;company=nestleHRprdBX&amp;lang=es_MX&amp;loginFlowRequired=true&amp;site=\n",
      "https://www.facebook.com/share.php?u=https://www.nestle.com.mx/home&amp;title=Nestl%C3%A9%20M%C3%A9xico\n",
      "https://twitter.com/intent/tweet?url=https://www.nestle.com.mx/home&amp;status=Nestl%C3%A9%20M%C3%A9xico+https://www.nestle.com.mx/home\n",
      "https://www.nestle.com.mx/csv/iniciativas_globales/ixj\n",
      "https://www.nestle.com.mx/csv/iniciativas_globales/nxns\n",
      "https://www.nestle.com.mx/trabajos\n",
      "https://www.jovenes.nestle.com.mx\n",
      "https://www.nestle.com.mx/info\n",
      "https://www.nxns.com.mx/\n",
      "https://www.recetasnestle.com.mx/\n",
      "https://www.nestle.com/investors/sharesadrsbonds/stockquotes\n",
      "https://www.facebook.com/Nestle.MX/\n",
      "https://www.facebook.com/Nestle.MX/\n",
      "https://twitter.com/nestlemx\n",
      "https://twitter.com/nestlemx\n",
      "https://www.linkedin.com/company/nestle-s-a-/\n",
      "https://www.linkedin.com/company/nestle-s-a-/\n",
      "https://www.youtube.com/c/nestlemx\n",
      "https://www.youtube.com/c/nestlemx\n",
      "https://www.instagram.com/nestlemx/?hl=es\n",
      "https://www.instagram.com/nestlemx/?hl=es\n",
      "https://unpkg.com/@popperjs/core@2.11.6/dist/umd/popper.js\n",
      "https://unpkg.com/tippy.js@6.3.7/dist/tippy.umd.js\n",
      "https://unpkg.com/bootstrap@3.4.1/dist/js/bootstrap.min.js\n"
     ]
    }
   ],
   "source": [
    "res = re.findall('\"(https.*?)\"', html_code)\n",
    "for r in res:\n",
    "    print(r)"
   ]
  }
 ],
 "metadata": {
  "kernelspec": {
   "display_name": "Python 3 (ipykernel)",
   "language": "python",
   "name": "python3"
  },
  "language_info": {
   "codemirror_mode": {
    "name": "ipython",
    "version": 3
   },
   "file_extension": ".py",
   "mimetype": "text/x-python",
   "name": "python",
   "nbconvert_exporter": "python",
   "pygments_lexer": "ipython3",
   "version": "3.11.5"
  }
 },
 "nbformat": 4,
 "nbformat_minor": 5
}
